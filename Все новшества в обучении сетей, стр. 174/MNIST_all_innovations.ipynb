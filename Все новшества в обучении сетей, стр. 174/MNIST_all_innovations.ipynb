{
 "cells": [
  {
   "cell_type": "code",
   "execution_count": 1,
   "metadata": {},
   "outputs": [],
   "source": [
    "import torch\n",
    "import torchvision\n",
    "import torchvision.datasets as datasets\n",
    "from torch.utils.data import DataLoader\n",
    "from os.path import exists\n",
    "import matplotlib.pyplot as plt\n",
    "import numpy as np\n",
    "batch_size = 256\n",
    "dtype = torch.float\n",
    "device = torch.device('cuda') if torch.cuda.is_available() else torch.device(\"cpu\")"
   ]
  },
  {
   "cell_type": "code",
   "execution_count": 2,
   "metadata": {},
   "outputs": [],
   "source": [
    "%matplotlib widget\n",
    "def loss_plot(fig, ax, train_loss, test_loss, loss_name):\n",
    "    train_line = ax.plot(train_loss, color = 'black')\n",
    "    test_line = ax.plot(test_loss, color = 'red')\n",
    "    ax.set_xlabel('Эпоха')\n",
    "    ax.set_ylabel(loss_name)\n",
    "    ax.legend(('Тренировочная выборка', 'Тестовая выборка'))\n",
    "    fig.canvas.draw()"
   ]
  },
  {
   "cell_type": "code",
   "execution_count": 3,
   "metadata": {},
   "outputs": [],
   "source": [
    "download = not exists('../mnist_data')\n",
    "train_set = datasets.MNIST(root='../mnist_data', train=True, download=download, transform=None)\n",
    "test_set = datasets.MNIST(root='../mnist_data', train=False, download=download, transform=None)\n",
    "x_train, y_train = train_set.data, train_set.targets\n",
    "x_test, y_test = test_set.data, test_set.targets\n",
    "#переводит во float и по надобности перекидывает на видеокарту\n",
    "x_train = x_train.float().to(device)\n",
    "x_test = x_test.float().to(device)\n",
    "y_train = y_train.to(device)\n",
    "y_test = y_test.to(device)"
   ]
  },
  {
   "cell_type": "code",
   "execution_count": 4,
   "metadata": {},
   "outputs": [],
   "source": [
    "x_train = x_train.reshape(-1, 28*28)/255\n",
    "x_test = x_test.reshape(-1, 28*28)/255"
   ]
  },
  {
   "cell_type": "code",
   "execution_count": 5,
   "metadata": {},
   "outputs": [],
   "source": [
    "train_loader = DataLoader(list(zip(x_train, y_train)), batch_size=batch_size,shuffle=True)\n",
    "test_loader = DataLoader(list(zip(x_test, y_test)), batch_size=batch_size,shuffle=True)"
   ]
  },
  {
   "cell_type": "code",
   "execution_count": 6,
   "metadata": {},
   "outputs": [],
   "source": [
    "model = torch.nn.Sequential(\n",
    "    torch.nn.Linear(28*28, 100),\n",
    "    torch.nn.Tanh(),\n",
    "    torch.nn.Linear(100, 100),\n",
    "    torch.nn.Tanh(),\n",
    "    torch.nn.Linear(100, 100),\n",
    "    torch.nn.Tanh(),\n",
    "    torch.nn.Linear(100, 100),\n",
    "    torch.nn.Tanh(),\n",
    "    torch.nn.Linear(100, 10),\n",
    ").to(device)\n",
    "#нужно предварительно создать оптимайзер на параметры\n"
   ]
  },
  {
   "cell_type": "code",
   "execution_count": 7,
   "metadata": {},
   "outputs": [
    {
     "data": {
      "text/plain": [
       "Sequential(\n",
       "  (0): Linear(in_features=784, out_features=100, bias=True)\n",
       "  (1): Tanh()\n",
       "  (2): Linear(in_features=100, out_features=100, bias=True)\n",
       "  (3): Tanh()\n",
       "  (4): Linear(in_features=100, out_features=100, bias=True)\n",
       "  (5): Tanh()\n",
       "  (6): Linear(in_features=100, out_features=100, bias=True)\n",
       "  (7): Tanh()\n",
       "  (8): Linear(in_features=100, out_features=10, bias=True)\n",
       ")"
      ]
     },
     "execution_count": 7,
     "metadata": {},
     "output_type": "execute_result"
    }
   ],
   "source": [
    "def weights_init_uniform(m):\n",
    "    if isinstance(m, torch.nn.Linear):\n",
    "        torch.nn.init.uniform_(m.weight.data, -1, 1)\n",
    "        torch.nn.init.uniform_(m.bias.data, -1, 1)\n",
    "\n",
    "model.apply(weights_init_uniform)"
   ]
  },
  {
   "cell_type": "code",
   "execution_count": 8,
   "metadata": {},
   "outputs": [
    {
     "data": {
      "application/vnd.jupyter.widget-view+json": {
       "model_id": "8d11184b351b48db9ee030039a6539b9",
       "version_major": 2,
       "version_minor": 0
      },
      "text/plain": [
       "Canvas(toolbar=Toolbar(toolitems=[('Home', 'Reset original view', 'home', 'home'), ('Back', 'Back to previous …"
      ]
     },
     "metadata": {},
     "output_type": "display_data"
    }
   ],
   "source": [
    "#%matplotlib notebook \n",
    "#для обычного jupyter notebook разкоментить строку выше, для jupyter lab всё оставить \n",
    "#https://stackoverflow.com/questions/51922480/javascript-error-ipython-is-not-defined-in-jupyterlab\n",
    "%matplotlib widget\n",
    "fig = plt.figure(figsize=(8,10))\n",
    "ax = fig.subplots(2,1)\n",
    "fig.tight_layout(pad=3.0)\n",
    "\n",
    "ax1, ax2 = ax\n",
    "train_loss = []\n",
    "test_loss_uniform = []\n",
    "train_acc = []\n",
    "test_acc_uniform = []\n",
    "epochs = 15\n",
    "lr = 0.5 #скорость обучения\n",
    "optimizer = torch.optim.SGD(model.parameters(), lr = lr)\n",
    "cross_entropy = torch.nn.CrossEntropyLoss()\n",
    "for i in range(epochs):\n",
    "    train_loss_epoch = 0\n",
    "    train_acc_epoch = 0\n",
    "    for x, y in train_loader:\n",
    "        y_hat = model(x)\n",
    "        loss = cross_entropy(y_hat, y)\n",
    "        train_loss_epoch += loss.item()\n",
    "        train_acc_epoch += torch.mean((y == torch.argmax(y_hat, 1)).float())\n",
    "        optimizer.zero_grad()\n",
    "        loss.backward()\n",
    "        optimizer.step()\n",
    "    train_loss.append(train_loss_epoch / len(train_loader))\n",
    "    train_acc.append(train_acc_epoch / len(train_loader))\n",
    "    with torch.no_grad():\n",
    "            y_hat = model(x_test)\n",
    "            test_loss_uniform.append(cross_entropy(y_hat, y_test))\n",
    "            test_acc_uniform.append(\n",
    "                torch.mean((y_test == torch.argmax(y_hat, 1)).float()))\n",
    "    fig.suptitle('Равномерное распределение весов от -1 до 1(начальная модель)', fontsize=16)\n",
    "    loss_plot(fig,ax1,train_loss, test_loss_uniform, \"Кросс-энтропия\")\n",
    "    loss_plot(fig,ax2,train_acc, test_acc_uniform, \"Точность\")"
   ]
  },
  {
   "cell_type": "code",
   "execution_count": 9,
   "metadata": {},
   "outputs": [],
   "source": [
    "model = torch.nn.Sequential(\n",
    "    torch.nn.Linear(28*28, 100),\n",
    "    torch.nn.Tanh(),\n",
    "    torch.nn.Linear(100, 100),\n",
    "    torch.nn.Tanh(),\n",
    "    torch.nn.BatchNorm1d(100),\n",
    "    torch.nn.Linear(100, 100),\n",
    "    torch.nn.Tanh(),\n",
    "    torch.nn.Linear(100, 100),\n",
    "    torch.nn.Tanh(),\n",
    "    torch.nn.Linear(100, 10),\n",
    ").to(device)"
   ]
  },
  {
   "cell_type": "code",
   "execution_count": 10,
   "metadata": {},
   "outputs": [
    {
     "data": {
      "application/vnd.jupyter.widget-view+json": {
       "model_id": "3324d89574ac48af85b942600ec2e2c3",
       "version_major": 2,
       "version_minor": 0
      },
      "text/plain": [
       "Canvas(toolbar=Toolbar(toolitems=[('Home', 'Reset original view', 'home', 'home'), ('Back', 'Back to previous …"
      ]
     },
     "metadata": {},
     "output_type": "display_data"
    }
   ],
   "source": [
    "def weights_init_xavier(m):\n",
    "    if isinstance(m, torch.nn.Linear):\n",
    "        torch.nn.init.xavier_uniform_(m.weight.data)\n",
    "        torch.nn.init.xavier_uniform_(m.weight.data)\n",
    "\n",
    "model.apply(weights_init_xavier)\n",
    "%matplotlib widget\n",
    "fig = plt.figure(figsize=(8,10))\n",
    "ax = fig.subplots(2,1)\n",
    "fig.tight_layout(pad=3.0)\n",
    "\n",
    "ax1, ax2 = ax\n",
    "train_loss = []\n",
    "test_loss_xav = []\n",
    "train_acc = []\n",
    "test_acc_xav = []\n",
    "epochs = 15\n",
    "lr = 0.5 #скорость обучения\n",
    "optimizer = torch.optim.Adam(model.parameters())\n",
    "cross_entropy = torch.nn.CrossEntropyLoss()\n",
    "for i in range(epochs):\n",
    "    train_loss_epoch = 0\n",
    "    train_acc_epoch = 0\n",
    "    for x, y in train_loader:\n",
    "        y_hat = model(x)\n",
    "        loss = cross_entropy(y_hat, y)\n",
    "        train_loss_epoch += loss.item()\n",
    "        train_acc_epoch += torch.mean((y == torch.argmax(y_hat, 1)).float())\n",
    "        optimizer.zero_grad()\n",
    "        loss.backward()\n",
    "        optimizer.step()\n",
    "    train_loss.append(train_loss_epoch / len(train_loader))\n",
    "    train_acc.append(train_acc_epoch / len(train_loader))\n",
    "    with torch.no_grad():\n",
    "            y_hat = model(x_test)\n",
    "            test_loss_xav.append(cross_entropy(y_hat, y_test))\n",
    "            test_acc_xav.append(\n",
    "                torch.mean((y_test == torch.argmax(y_hat, 1)).float()))\n",
    "    fig.suptitle('Инициализация Ксавье + Батч-нормализация + Adam', fontsize=16)\n",
    "    loss_plot(fig,ax1,train_loss, test_loss_xav, \"Кросс-энтропия\")\n",
    "    loss_plot(fig,ax2,train_acc, test_acc_xav, \"Точность\")"
   ]
  },
  {
   "cell_type": "code",
   "execution_count": 11,
   "metadata": {},
   "outputs": [
    {
     "data": {
      "image/png": "[encoded data removed]",
      "text/plain": [
       "<Figure size 576x720 with 2 Axes>"
      ]
     },
     "metadata": {
      "needs_background": "light"
     },
     "output_type": "display_data"
    }
   ],
   "source": [
    "\n",
    "%matplotlib inline\n",
    "fig = plt.figure(figsize=(8,10))\n",
    "fig.suptitle('До/после нововведений', fontsize=16)\n",
    "ax = fig.subplots(2,1)\n",
    "fig.tight_layout(pad=3.0)\n",
    "ax1, ax2 = ax\n",
    "train_line = ax1.plot(test_loss_uniform, color = 'black')\n",
    "test_line = ax1.plot(test_loss_xav, color = 'red')\n",
    "ax1.set_xlabel('Эпоха')\n",
    "ax1.set_ylabel('Кроссэнтропия')\n",
    "ax1.legend(('Равномерное распределение весов(начальная модель)', 'Инициализация Ксавье + Батч-нормализация + Adam'))\n",
    "\n",
    "train_line = ax2.plot(test_acc_uniform, color = 'black')\n",
    "test_line = ax2.plot(test_acc_xav, color = 'red')\n",
    "ax2.set_xlabel('Эпоха')\n",
    "ax2.set_ylabel('Точность')\n",
    "ax2.legend(('Равномерное распределение весов(начальная модель)', 'Инициализация Ксавье + Батч-нормализация + Adam'))\n",
    "fig.canvas.draw()"
   ]
  },
  {
   "cell_type": "code",
   "execution_count": null,
   "metadata": {},
   "outputs": [],
   "source": []
  }
 ],
 "metadata": {
  "kernelspec": {
   "display_name": "Python 3",
   "language": "python",
   "name": "python3"
  },
  "language_info": {
   "codemirror_mode": {
    "name": "ipython",
    "version": 3
   },
   "file_extension": ".py",
   "mimetype": "text/x-python",
   "name": "python",
   "nbconvert_exporter": "python",
   "pygments_lexer": "ipython3",
   "version": "3.7.6"
  }
 },
 "nbformat": 4,
 "nbformat_minor": 4
}
