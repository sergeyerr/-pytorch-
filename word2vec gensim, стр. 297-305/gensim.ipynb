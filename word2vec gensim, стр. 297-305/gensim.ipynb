{
 "cells": [
  {
   "cell_type": "code",
   "execution_count": 97,
   "metadata": {},
   "outputs": [],
   "source": [
    "import re\n",
    "import gensim\n",
    "from gensim.models.phrases import Phrases,Phraser\n",
    "from gensim.models.word2vec import Word2Vec\n",
    "from nltk.corpus import stopwords"
   ]
  },
  {
   "cell_type": "code",
   "execution_count": 98,
   "metadata": {},
   "outputs": [],
   "source": [
    "badwords = stopwords.words('russian')\n",
    "badwords.extend(['что', 'это', 'так', 'вот', 'быть', 'как', 'в', '—', '–', 'к', 'на', '...'])"
   ]
  },
  {
   "cell_type": "code",
   "execution_count": 99,
   "metadata": {},
   "outputs": [],
   "source": [
    "#ради скорости решил посмотреть на преступлении и наказании\n",
    "input_fname = 'pr_i_nac.txt'\n",
    "sentences = []\n",
    "with open(input_fname, 'r') as f:\n",
    "    for line in f:\n",
    "        s = re.split('[.!?\\-\\]\\[]', line.strip().lower())\n",
    "        for sentence in s:\n",
    "            if len(sentence) > 20:\n",
    "                sentence = re.sub(r'[,;\\(\\)«»—]', '', sentence)\n",
    "                sentence = sentence.strip()\n",
    "                sentence = ' '.join([x for x in sentence.split() if x not in badwords])\n",
    "                sentences.append(sentence.strip())"
   ]
  },
  {
   "cell_type": "code",
   "execution_count": 100,
   "metadata": {},
   "outputs": [],
   "source": [
    "bigram = Phrases(sentences)\n",
    "bigram_transformer = Phraser(bigram)"
   ]
  },
  {
   "cell_type": "code",
   "execution_count": 101,
   "metadata": {},
   "outputs": [],
   "source": [
    "def text_generator_bigram():\n",
    "    for text in sentences:\n",
    "        yield bigram_transformer[text.split()]"
   ]
  },
  {
   "cell_type": "code",
   "execution_count": 102,
   "metadata": {},
   "outputs": [],
   "source": [
    "trigram = Phrases(text_generator_bigram())\n",
    "trigram_transformer = Phraser(trigram)\n",
    "def text_generator_trigram():\n",
    "    for text in sentences:\n",
    "        yield trigram_transformer[bigram_transformer[text.split()]]\n",
    "        "
   ]
  },
  {
   "cell_type": "code",
   "execution_count": 103,
   "metadata": {},
   "outputs": [],
   "source": [
    "model = Word2Vec(size=50, window=7, min_count=5, workers = 12)\n",
    "model.build_vocab(text_generator_trigram())"
   ]
  },
  {
   "cell_type": "code",
   "execution_count": 104,
   "metadata": {},
   "outputs": [
    {
     "data": {
      "text/plain": [
       "(53807, 90762)"
      ]
     },
     "execution_count": 104,
     "metadata": {},
     "output_type": "execute_result"
    }
   ],
   "source": [
    "model.train(text_generator_trigram(), total_examples=model.corpus_count, epochs=1000)"
   ]
  },
  {
   "cell_type": "code",
   "execution_count": 122,
   "metadata": {},
   "outputs": [
    {
     "data": {
      "text/plain": [
       "[('узнал', 0.49820640683174133),\n",
       " ('могу', 0.48999834060668945),\n",
       " ('преступления', 0.48643696308135986),\n",
       " ('всему', 0.48538464307785034),\n",
       " ('тихо', 0.4824371337890625),\n",
       " ('квартира', 0.47275683283805847),\n",
       " ('человек', 0.4714996814727783),\n",
       " ('женщина', 0.4701743721961975),\n",
       " ('тревоге', 0.4647528827190399),\n",
       " ('плакать', 0.46132224798202515)]"
      ]
     },
     "execution_count": 122,
     "metadata": {},
     "output_type": "execute_result"
    }
   ],
   "source": [
    "model.wv.most_similar('упал')"
   ]
  },
  {
   "cell_type": "code",
   "execution_count": null,
   "metadata": {},
   "outputs": [],
   "source": []
  }
 ],
 "metadata": {
  "kernelspec": {
   "display_name": "Python 3",
   "language": "python",
   "name": "python3"
  },
  "language_info": {
   "codemirror_mode": {
    "name": "ipython",
    "version": 3
   },
   "file_extension": ".py",
   "mimetype": "text/x-python",
   "name": "python",
   "nbconvert_exporter": "python",
   "pygments_lexer": "ipython3",
   "version": "3.7.6"
  }
 },
 "nbformat": 4,
 "nbformat_minor": 4
}
